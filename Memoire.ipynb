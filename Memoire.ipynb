{
  "nbformat": 4,
  "nbformat_minor": 0,
  "metadata": {
    "colab": {
      "name": "Memoire.ipynb",
      "provenance": [],
      "collapsed_sections": []
    },
    "kernelspec": {
      "name": "python3",
      "display_name": "Python 3"
    },
    "language_info": {
      "name": "python"
    }
  },
  "cells": [
    {
      "cell_type": "code",
      "execution_count": null,
      "metadata": {
        "id": "p8INfzdZ32q6"
      },
      "outputs": [],
      "source": [
        "#Import Essential Libraries\n",
        "import pandas as pd\n",
        "import seaborn as sns\n",
        "import matplotlib.pyplot as plt\n",
        "import io \n",
        "from keras.models import Sequential\n",
        "from keras.layers import Dense\n",
        "import numpy as np\n",
        "from sklearn.preprocessing import StandardScaler\n",
        "from sklearn.model_selection import train_test_split\n",
        "import matplotlib.pyplot as plt\n",
        "from matplotlib import ticker\n",
        "import numpy as np\n",
        "import pandas as pd\n",
        "import seaborn as sns\n",
        "import tensorflow as tf\n",
        "from tensorflow import keras\n",
        "from sklearn.model_selection import StratifiedKFold\n"
      ]
    },
    {
      "cell_type": "code",
      "source": [
        "import tensorflow as tf\n",
        "print(tf.__version__)\n"
      ],
      "metadata": {
        "colab": {
          "base_uri": "https://localhost:8080/"
        },
        "id": "Wge41njBAm-m",
        "outputId": "ff6966e1-5dc7-4cf6-84f1-8dba21f3ab4a"
      },
      "execution_count": null,
      "outputs": [
        {
          "output_type": "stream",
          "name": "stdout",
          "text": [
            "2.8.2\n"
          ]
        }
      ]
    },
    {
      "cell_type": "code",
      "source": [
        "from google.colab import files \n",
        "  \n",
        "  \n",
        "uploaded = files.upload()"
      ],
      "metadata": {
        "colab": {
          "resources": {
            "http://localhost:8080/nbextensions/google.colab/files.js": {
              "data": "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",
              "ok": true,
              "headers": [
                [
                  "content-type",
                  "application/javascript"
                ]
              ],
              "status": 200,
              "status_text": ""
            }
          },
          "base_uri": "https://localhost:8080/",
          "height": 74
        },
        "id": "6JT-BjtK4AsN",
        "outputId": "aecc004a-33f2-4a4a-c696-485ca1543081"
      },
      "execution_count": null,
      "outputs": [
        {
          "output_type": "display_data",
          "data": {
            "text/plain": [
              "<IPython.core.display.HTML object>"
            ],
            "text/html": [
              "\n",
              "     <input type=\"file\" id=\"files-473d95fc-6ab5-452c-a319-920c78440fa6\" name=\"files[]\" multiple disabled\n",
              "        style=\"border:none\" />\n",
              "     <output id=\"result-473d95fc-6ab5-452c-a319-920c78440fa6\">\n",
              "      Upload widget is only available when the cell has been executed in the\n",
              "      current browser session. Please rerun this cell to enable.\n",
              "      </output>\n",
              "      <script src=\"/nbextensions/google.colab/files.js\"></script> "
            ]
          },
          "metadata": {}
        },
        {
          "output_type": "stream",
          "name": "stdout",
          "text": [
            "Saving data_memoire.xlsx to data_memoire.xlsx\n"
          ]
        }
      ]
    },
    {
      "cell_type": "code",
      "source": [
        "data = pd.read_excel(io.BytesIO(uploaded['data_memoire.xlsx'])) \n",
        "print(data)"
      ],
      "metadata": {
        "colab": {
          "base_uri": "https://localhost:8080/"
        },
        "id": "-Ndk3oAC7ykn",
        "outputId": "d3d9fb3d-f19a-4973-ca5d-f6339ecbf2c3"
      },
      "execution_count": null,
      "outputs": [
        {
          "output_type": "stream",
          "name": "stdout",
          "text": [
            "      Derivation cohort  LOS_Y  LOS  Death   Age  Severity  MI  PVD  CHF  CVD  \\\n",
            "0                     1      1    1      0   >80         3   0    0    0    0   \n",
            "1                     1      1    2      1   >60         7   0    1    0    0   \n",
            "2                     1      1    2      1   >80         7   0    1    1    1   \n",
            "3                     1      1   15      0   >70         9   1    0    0    0   \n",
            "4                     1      1    9      0   >70         7   0    0    0    0   \n",
            "...                 ...    ...  ...    ...   ...       ...  ..  ...  ...  ...   \n",
            "4706                  0      1    4      0   >70         4   0    0    0    0   \n",
            "4707                  0      1    2      0   >60         2   0    1    0    0   \n",
            "4708                  0      0    0      0   >60         1   0    1    0    0   \n",
            "4709                  0      0    0      0   >80         3   0    1    0    0   \n",
            "4710                  0      0    0      0  0-60         2   0    1    0    0   \n",
            "\n",
            "      ...  Ferritin > 300  CrctProtYes  CrctProtein  C-Reactive Prot > 10  \\\n",
            "0     ...               0            1       0.4999                     0   \n",
            "1     ...               1            1      14.9000                     1   \n",
            "2     ...               1            1      33.9000                     1   \n",
            "3     ...               1            1      18.4000                     1   \n",
            "4     ...               1            1      11.6000                     1   \n",
            "...   ...             ...          ...          ...                   ...   \n",
            "4706  ...               0            1       1.8000                     0   \n",
            "4707  ...               1            1       3.1000                     0   \n",
            "4708  ...               0            1       0.4999                     0   \n",
            "4709  ...               1            1       8.6000                     0   \n",
            "4710  ...               0            1       0.0000                     0   \n",
            "\n",
            "      ProCalCYes  Procalcitonin  Procalciton > 0.1  TropYes  Troponin  \\\n",
            "0              0         0.0000                  0        1      0.01   \n",
            "1              1         0.6000                  1        1      1.20   \n",
            "2              1         1.2000                  1        0      0.00   \n",
            "3              1         7.3000                  1        1      0.05   \n",
            "4              0         0.0000                  0        1      0.01   \n",
            "...          ...            ...                ...      ...       ...   \n",
            "4706           1         0.0999                  0        1      0.01   \n",
            "4707           1         0.0999                  0        1      0.01   \n",
            "4708           1         0.0000                  0        0      0.00   \n",
            "4709           1         0.1000                  0        1      0.01   \n",
            "4710           1         0.0000                  0        0      0.00   \n",
            "\n",
            "      Troponin > 0.1  \n",
            "0                  0  \n",
            "1                  1  \n",
            "2                  0  \n",
            "3                  0  \n",
            "4                  0  \n",
            "...              ...  \n",
            "4706               0  \n",
            "4707               0  \n",
            "4708               0  \n",
            "4709               0  \n",
            "4710               0  \n",
            "\n",
            "[4711 rows x 81 columns]\n"
          ]
        },
        {
          "output_type": "stream",
          "name": "stderr",
          "text": [
            "/usr/local/lib/python3.7/dist-packages/openpyxl/worksheet/_reader.py:312: UserWarning: Unknown extension is not supported and will be removed\n",
            "  warn(msg)\n"
          ]
        }
      ]
    },
    {
      "cell_type": "code",
      "source": [
        "data.groupby(['Death'],).size()\n"
      ],
      "metadata": {
        "colab": {
          "base_uri": "https://localhost:8080/"
        },
        "id": "CThI_dSsPTe9",
        "outputId": "91501f43-f7b3-4c86-c989-35c2928754ab"
      },
      "execution_count": null,
      "outputs": [
        {
          "output_type": "execute_result",
          "data": {
            "text/plain": [
              "Death\n",
              "0    3563\n",
              "1    1148\n",
              "dtype: int64"
            ]
          },
          "metadata": {},
          "execution_count": 5
        }
      ]
    },
    {
      "cell_type": "code",
      "source": [
        "#visulalisation et analyse \n",
        "  #Afficher le nom de chaque colonne\n",
        "data.columns.sort_values()"
      ],
      "metadata": {
        "colab": {
          "base_uri": "https://localhost:8080/"
        },
        "id": "L_v4je8X8plA",
        "outputId": "69ba543d-8a6b-487c-df95-b8a9d6377977"
      },
      "execution_count": null,
      "outputs": [
        {
          "output_type": "execute_result",
          "data": {
            "text/plain": [
              "Index(['ALT', 'ALT > 40', 'ALTYes', 'AST', 'AST > 40', 'ASTYes', 'Age',\n",
              "       'Age.1', 'AgeScore', 'All CNS', 'BUN', 'BUN > 30', 'BUNYes',\n",
              "       'C-Reactive Prot > 10', 'CHF', 'COPD', 'CVD', 'CrctProtYes',\n",
              "       'CrctProtein', 'Creatinine', 'CrtnScore', 'CrtnYes', 'D-Dimer > 3',\n",
              "       'DDimerYes', 'DEMENT', 'DM Complicated', 'DM Simple', 'Ddimer', 'Death',\n",
              "       'Derivation cohort', 'Ferritin', 'Ferritin > 300', 'FerritinYes',\n",
              "       'Glucose', 'Glucose <60 or > 500', 'GlucoseYese', 'IL6', 'IL6 > 150',\n",
              "       'IL6Yes', 'INR', 'INR > 1.2', 'INRYes', 'LOS', 'LOS_Y', 'Lympho',\n",
              "       'LymphoYes', 'Lymphocytes < 1', 'MAP', 'MAP < 70', 'MI', 'MapYes',\n",
              "       'O2 Sat < 94', 'O2SatsYes', 'OldOtherNeuro', 'OldSyncope', 'OsSats',\n",
              "       'OtherBrnLsn', 'PVD', 'Plts', 'PltsScore', 'PltsYes', 'ProCalCYes',\n",
              "       'Procalciton > 0.1', 'Procalcitonin', 'Pure CNS', 'Renal Disease',\n",
              "       'Seizure', 'Severity', 'SodimuYes', 'Sodium', 'Sodium < 139 or > 154',\n",
              "       'Stroke', 'Temp', 'Temp > 38', 'TempYes', 'TropYes', 'Troponin',\n",
              "       'Troponin > 0.1', 'WBC', 'WBC <1.8 or > 4.8', 'WBCYes'],\n",
              "      dtype='object')"
            ]
          },
          "metadata": {},
          "execution_count": 6
        }
      ]
    },
    {
      "cell_type": "code",
      "source": [
        "#Analyse Data - Overview Shape\n",
        "data.shape"
      ],
      "metadata": {
        "colab": {
          "base_uri": "https://localhost:8080/"
        },
        "id": "7PKU6Y7vBtKv",
        "outputId": "abbf3a71-7ef2-4de8-d6f6-88ae4cc7fce3"
      },
      "execution_count": null,
      "outputs": [
        {
          "output_type": "execute_result",
          "data": {
            "text/plain": [
              "(4711, 81)"
            ]
          },
          "metadata": {},
          "execution_count": 7
        }
      ]
    },
    {
      "cell_type": "code",
      "source": [
        "#Afficher le type de chaque colonne et null (si présent)\n",
        "data.info()"
      ],
      "metadata": {
        "colab": {
          "base_uri": "https://localhost:8080/"
        },
        "id": "zVE4SDKxB8zh",
        "outputId": "70d4bde6-d644-4faa-8750-9b5997bed6a0"
      },
      "execution_count": null,
      "outputs": [
        {
          "output_type": "stream",
          "name": "stdout",
          "text": [
            "<class 'pandas.core.frame.DataFrame'>\n",
            "RangeIndex: 4711 entries, 0 to 4710\n",
            "Data columns (total 81 columns):\n",
            " #   Column                 Non-Null Count  Dtype  \n",
            "---  ------                 --------------  -----  \n",
            " 0   Derivation cohort      4711 non-null   int64  \n",
            " 1   LOS_Y                  4711 non-null   int64  \n",
            " 2   LOS                    4711 non-null   int64  \n",
            " 3   Death                  4711 non-null   int64  \n",
            " 4   Age                    4711 non-null   object \n",
            " 5   Severity               4711 non-null   int64  \n",
            " 6   MI                     4711 non-null   int64  \n",
            " 7   PVD                    4711 non-null   int64  \n",
            " 8   CHF                    4711 non-null   int64  \n",
            " 9   CVD                    4711 non-null   int64  \n",
            " 10  DEMENT                 4711 non-null   int64  \n",
            " 11  COPD                   4711 non-null   int64  \n",
            " 12  DM Complicated         4711 non-null   int64  \n",
            " 13  DM Simple              4711 non-null   int64  \n",
            " 14  Renal Disease          4711 non-null   int64  \n",
            " 15  All CNS                4711 non-null   int64  \n",
            " 16  Pure CNS               4711 non-null   int64  \n",
            " 17  Stroke                 4711 non-null   int64  \n",
            " 18  Seizure                4711 non-null   int64  \n",
            " 19  OldSyncope             4711 non-null   int64  \n",
            " 20  OldOtherNeuro          4711 non-null   int64  \n",
            " 21  OtherBrnLsn            4711 non-null   int64  \n",
            " 22  Age.1                  4711 non-null   int64  \n",
            " 23  AgeScore               4711 non-null   int64  \n",
            " 24  O2SatsYes              4711 non-null   int64  \n",
            " 25  OsSats                 4711 non-null   int64  \n",
            " 26  O2 Sat < 94            4711 non-null   int64  \n",
            " 27  TempYes                4711 non-null   int64  \n",
            " 28  Temp                   4711 non-null   float64\n",
            " 29  Temp > 38              4711 non-null   int64  \n",
            " 30  MapYes                 4711 non-null   int64  \n",
            " 31  MAP                    4711 non-null   float64\n",
            " 32  MAP < 70               4711 non-null   int64  \n",
            " 33  DDimerYes              4711 non-null   int64  \n",
            " 34  Ddimer                 4711 non-null   float64\n",
            " 35  D-Dimer > 3            4711 non-null   int64  \n",
            " 36  PltsYes                4711 non-null   int64  \n",
            " 37  Plts                   4711 non-null   int64  \n",
            " 38  PltsScore              4711 non-null   int64  \n",
            " 39  INRYes                 4711 non-null   int64  \n",
            " 40  INR                    4711 non-null   float64\n",
            " 41  INR > 1.2              4711 non-null   int64  \n",
            " 42  BUNYes                 4711 non-null   int64  \n",
            " 43  BUN                    4711 non-null   float64\n",
            " 44  BUN > 30               4711 non-null   int64  \n",
            " 45  CrtnYes                4711 non-null   int64  \n",
            " 46  Creatinine             4711 non-null   float64\n",
            " 47  CrtnScore              4711 non-null   int64  \n",
            " 48  SodimuYes              4711 non-null   int64  \n",
            " 49  Sodium                 4711 non-null   float64\n",
            " 50  Sodium < 139 or > 154  4711 non-null   int64  \n",
            " 51  GlucoseYese            4711 non-null   int64  \n",
            " 52  Glucose                4711 non-null   float64\n",
            " 53  Glucose <60 or > 500   4711 non-null   int64  \n",
            " 54  ASTYes                 4711 non-null   int64  \n",
            " 55  AST                    4711 non-null   float64\n",
            " 56  AST > 40               4711 non-null   int64  \n",
            " 57  ALTYes                 4711 non-null   int64  \n",
            " 58  ALT                    4711 non-null   float64\n",
            " 59  ALT > 40               4711 non-null   int64  \n",
            " 60  WBCYes                 4711 non-null   int64  \n",
            " 61  WBC                    4711 non-null   float64\n",
            " 62  WBC <1.8 or > 4.8      4711 non-null   int64  \n",
            " 63  LymphoYes              4711 non-null   int64  \n",
            " 64  Lympho                 4711 non-null   float64\n",
            " 65  Lymphocytes < 1        4711 non-null   int64  \n",
            " 66  IL6Yes                 4711 non-null   int64  \n",
            " 67  IL6                    4711 non-null   float64\n",
            " 68  IL6 > 150              4711 non-null   int64  \n",
            " 69  FerritinYes            4711 non-null   int64  \n",
            " 70  Ferritin               4711 non-null   float64\n",
            " 71  Ferritin > 300         4711 non-null   int64  \n",
            " 72  CrctProtYes            4711 non-null   int64  \n",
            " 73  CrctProtein            4711 non-null   float64\n",
            " 74  C-Reactive Prot > 10   4711 non-null   int64  \n",
            " 75  ProCalCYes             4711 non-null   int64  \n",
            " 76  Procalcitonin          4711 non-null   float64\n",
            " 77  Procalciton > 0.1      4711 non-null   int64  \n",
            " 78  TropYes                4711 non-null   int64  \n",
            " 79  Troponin               4711 non-null   float64\n",
            " 80  Troponin > 0.1         4711 non-null   int64  \n",
            "dtypes: float64(17), int64(63), object(1)\n",
            "memory usage: 2.9+ MB\n"
          ]
        }
      ]
    },
    {
      "cell_type": "code",
      "source": [
        "data.isnull().any()"
      ],
      "metadata": {
        "colab": {
          "base_uri": "https://localhost:8080/"
        },
        "id": "X_7G6hkHJUGz",
        "outputId": "fa522b74-8ab2-443c-a530-f87a83b885d1"
      },
      "execution_count": null,
      "outputs": [
        {
          "output_type": "execute_result",
          "data": {
            "text/plain": [
              "Derivation cohort    False\n",
              "LOS_Y                False\n",
              "LOS                  False\n",
              "Death                False\n",
              "Age                  False\n",
              "                     ...  \n",
              "Procalcitonin        False\n",
              "Procalciton > 0.1    False\n",
              "TropYes              False\n",
              "Troponin             False\n",
              "Troponin > 0.1       False\n",
              "Length: 81, dtype: bool"
            ]
          },
          "metadata": {},
          "execution_count": 9
        }
      ]
    },
    {
      "cell_type": "code",
      "source": [
        "data.describe()"
      ],
      "metadata": {
        "colab": {
          "base_uri": "https://localhost:8080/",
          "height": 411
        },
        "id": "erH8v0b9KjoU",
        "outputId": "3c9b1ce2-1a8c-4c08-c8b2-080c5c7a2c88"
      },
      "execution_count": null,
      "outputs": [
        {
          "output_type": "execute_result",
          "data": {
            "text/plain": [
              "       Derivation cohort        LOS_Y          LOS        Death     Severity  \\\n",
              "count        4711.000000  4711.000000  4711.000000  4711.000000  4711.000000   \n",
              "mean            0.499682     0.927616     7.160263     0.243685     3.586287   \n",
              "std             0.500053     0.259150     7.029782     0.429350     2.289303   \n",
              "min             0.000000     0.000000     0.000000     0.000000     0.000000   \n",
              "25%             0.000000     1.000000     3.000000     0.000000     2.000000   \n",
              "50%             0.000000     1.000000     5.000000     0.000000     3.000000   \n",
              "75%             1.000000     1.000000     9.000000     0.000000     5.000000   \n",
              "max             1.000000     1.000000    56.000000     1.000000    11.000000   \n",
              "\n",
              "                MI          PVD          CHF          CVD       DEMENT  ...  \\\n",
              "count  4711.000000  4711.000000  4711.000000  4711.000000  4711.000000  ...   \n",
              "mean      0.042666     0.187434     0.114838     0.107408     0.078964  ...   \n",
              "std       0.202125     0.408897     0.318860     0.309664     0.269711  ...   \n",
              "min       0.000000     0.000000     0.000000     0.000000     0.000000  ...   \n",
              "25%       0.000000     0.000000     0.000000     0.000000     0.000000  ...   \n",
              "50%       0.000000     0.000000     0.000000     0.000000     0.000000  ...   \n",
              "75%       0.000000     0.000000     0.000000     0.000000     0.000000  ...   \n",
              "max       1.000000     2.000000     1.000000     1.000000     1.000000  ...   \n",
              "\n",
              "       Ferritin > 300  CrctProtYes  CrctProtein  C-Reactive Prot > 10  \\\n",
              "count     4711.000000  4711.000000  4711.000000           4711.000000   \n",
              "mean         0.543621     0.836128    10.314919              0.393335   \n",
              "std          0.498146     0.370198    11.223356              0.488542   \n",
              "min          0.000000     0.000000     0.000000              0.000000   \n",
              "25%          0.000000     1.000000     0.900000              0.000000   \n",
              "50%          1.000000     1.000000     6.500000              0.000000   \n",
              "75%          1.000000     1.000000    16.000000              1.000000   \n",
              "max          1.000000     1.000000   100.000100              1.000000   \n",
              "\n",
              "        ProCalCYes  Procalcitonin  Procalciton > 0.1      TropYes  \\\n",
              "count  4711.000000    4711.000000        4711.000000  4711.000000   \n",
              "mean      0.655487       1.585601           0.365952     0.863935   \n",
              "std       0.475260       6.262625           0.481747     0.342893   \n",
              "min       0.000000       0.000000           0.000000     0.000000   \n",
              "25%       0.000000       0.000000           0.000000     1.000000   \n",
              "50%       1.000000       0.100000           0.000000     1.000000   \n",
              "75%       1.000000       0.400000           1.000000     1.000000   \n",
              "max       1.000000      50.000100           1.000000     1.000000   \n",
              "\n",
              "          Troponin  Troponin > 0.1  \n",
              "count  4711.000000     4711.000000  \n",
              "mean      0.051558        0.095521  \n",
              "std       0.268160        0.293965  \n",
              "min       0.000000        0.000000  \n",
              "25%       0.010000        0.000000  \n",
              "50%       0.010000        0.000000  \n",
              "75%       0.020000        0.000000  \n",
              "max       9.560000        1.000000  \n",
              "\n",
              "[8 rows x 80 columns]"
            ],
            "text/html": [
              "\n",
              "  <div id=\"df-4826f689-0bad-478a-ac52-89998d73acc3\">\n",
              "    <div class=\"colab-df-container\">\n",
              "      <div>\n",
              "<style scoped>\n",
              "    .dataframe tbody tr th:only-of-type {\n",
              "        vertical-align: middle;\n",
              "    }\n",
              "\n",
              "    .dataframe tbody tr th {\n",
              "        vertical-align: top;\n",
              "    }\n",
              "\n",
              "    .dataframe thead th {\n",
              "        text-align: right;\n",
              "    }\n",
              "</style>\n",
              "<table border=\"1\" class=\"dataframe\">\n",
              "  <thead>\n",
              "    <tr style=\"text-align: right;\">\n",
              "      <th></th>\n",
              "      <th>Derivation cohort</th>\n",
              "      <th>LOS_Y</th>\n",
              "      <th>LOS</th>\n",
              "      <th>Death</th>\n",
              "      <th>Severity</th>\n",
              "      <th>MI</th>\n",
              "      <th>PVD</th>\n",
              "      <th>CHF</th>\n",
              "      <th>CVD</th>\n",
              "      <th>DEMENT</th>\n",
              "      <th>...</th>\n",
              "      <th>Ferritin &gt; 300</th>\n",
              "      <th>CrctProtYes</th>\n",
              "      <th>CrctProtein</th>\n",
              "      <th>C-Reactive Prot &gt; 10</th>\n",
              "      <th>ProCalCYes</th>\n",
              "      <th>Procalcitonin</th>\n",
              "      <th>Procalciton &gt; 0.1</th>\n",
              "      <th>TropYes</th>\n",
              "      <th>Troponin</th>\n",
              "      <th>Troponin &gt; 0.1</th>\n",
              "    </tr>\n",
              "  </thead>\n",
              "  <tbody>\n",
              "    <tr>\n",
              "      <th>count</th>\n",
              "      <td>4711.000000</td>\n",
              "      <td>4711.000000</td>\n",
              "      <td>4711.000000</td>\n",
              "      <td>4711.000000</td>\n",
              "      <td>4711.000000</td>\n",
              "      <td>4711.000000</td>\n",
              "      <td>4711.000000</td>\n",
              "      <td>4711.000000</td>\n",
              "      <td>4711.000000</td>\n",
              "      <td>4711.000000</td>\n",
              "      <td>...</td>\n",
              "      <td>4711.000000</td>\n",
              "      <td>4711.000000</td>\n",
              "      <td>4711.000000</td>\n",
              "      <td>4711.000000</td>\n",
              "      <td>4711.000000</td>\n",
              "      <td>4711.000000</td>\n",
              "      <td>4711.000000</td>\n",
              "      <td>4711.000000</td>\n",
              "      <td>4711.000000</td>\n",
              "      <td>4711.000000</td>\n",
              "    </tr>\n",
              "    <tr>\n",
              "      <th>mean</th>\n",
              "      <td>0.499682</td>\n",
              "      <td>0.927616</td>\n",
              "      <td>7.160263</td>\n",
              "      <td>0.243685</td>\n",
              "      <td>3.586287</td>\n",
              "      <td>0.042666</td>\n",
              "      <td>0.187434</td>\n",
              "      <td>0.114838</td>\n",
              "      <td>0.107408</td>\n",
              "      <td>0.078964</td>\n",
              "      <td>...</td>\n",
              "      <td>0.543621</td>\n",
              "      <td>0.836128</td>\n",
              "      <td>10.314919</td>\n",
              "      <td>0.393335</td>\n",
              "      <td>0.655487</td>\n",
              "      <td>1.585601</td>\n",
              "      <td>0.365952</td>\n",
              "      <td>0.863935</td>\n",
              "      <td>0.051558</td>\n",
              "      <td>0.095521</td>\n",
              "    </tr>\n",
              "    <tr>\n",
              "      <th>std</th>\n",
              "      <td>0.500053</td>\n",
              "      <td>0.259150</td>\n",
              "      <td>7.029782</td>\n",
              "      <td>0.429350</td>\n",
              "      <td>2.289303</td>\n",
              "      <td>0.202125</td>\n",
              "      <td>0.408897</td>\n",
              "      <td>0.318860</td>\n",
              "      <td>0.309664</td>\n",
              "      <td>0.269711</td>\n",
              "      <td>...</td>\n",
              "      <td>0.498146</td>\n",
              "      <td>0.370198</td>\n",
              "      <td>11.223356</td>\n",
              "      <td>0.488542</td>\n",
              "      <td>0.475260</td>\n",
              "      <td>6.262625</td>\n",
              "      <td>0.481747</td>\n",
              "      <td>0.342893</td>\n",
              "      <td>0.268160</td>\n",
              "      <td>0.293965</td>\n",
              "    </tr>\n",
              "    <tr>\n",
              "      <th>min</th>\n",
              "      <td>0.000000</td>\n",
              "      <td>0.000000</td>\n",
              "      <td>0.000000</td>\n",
              "      <td>0.000000</td>\n",
              "      <td>0.000000</td>\n",
              "      <td>0.000000</td>\n",
              "      <td>0.000000</td>\n",
              "      <td>0.000000</td>\n",
              "      <td>0.000000</td>\n",
              "      <td>0.000000</td>\n",
              "      <td>...</td>\n",
              "      <td>0.000000</td>\n",
              "      <td>0.000000</td>\n",
              "      <td>0.000000</td>\n",
              "      <td>0.000000</td>\n",
              "      <td>0.000000</td>\n",
              "      <td>0.000000</td>\n",
              "      <td>0.000000</td>\n",
              "      <td>0.000000</td>\n",
              "      <td>0.000000</td>\n",
              "      <td>0.000000</td>\n",
              "    </tr>\n",
              "    <tr>\n",
              "      <th>25%</th>\n",
              "      <td>0.000000</td>\n",
              "      <td>1.000000</td>\n",
              "      <td>3.000000</td>\n",
              "      <td>0.000000</td>\n",
              "      <td>2.000000</td>\n",
              "      <td>0.000000</td>\n",
              "      <td>0.000000</td>\n",
              "      <td>0.000000</td>\n",
              "      <td>0.000000</td>\n",
              "      <td>0.000000</td>\n",
              "      <td>...</td>\n",
              "      <td>0.000000</td>\n",
              "      <td>1.000000</td>\n",
              "      <td>0.900000</td>\n",
              "      <td>0.000000</td>\n",
              "      <td>0.000000</td>\n",
              "      <td>0.000000</td>\n",
              "      <td>0.000000</td>\n",
              "      <td>1.000000</td>\n",
              "      <td>0.010000</td>\n",
              "      <td>0.000000</td>\n",
              "    </tr>\n",
              "    <tr>\n",
              "      <th>50%</th>\n",
              "      <td>0.000000</td>\n",
              "      <td>1.000000</td>\n",
              "      <td>5.000000</td>\n",
              "      <td>0.000000</td>\n",
              "      <td>3.000000</td>\n",
              "      <td>0.000000</td>\n",
              "      <td>0.000000</td>\n",
              "      <td>0.000000</td>\n",
              "      <td>0.000000</td>\n",
              "      <td>0.000000</td>\n",
              "      <td>...</td>\n",
              "      <td>1.000000</td>\n",
              "      <td>1.000000</td>\n",
              "      <td>6.500000</td>\n",
              "      <td>0.000000</td>\n",
              "      <td>1.000000</td>\n",
              "      <td>0.100000</td>\n",
              "      <td>0.000000</td>\n",
              "      <td>1.000000</td>\n",
              "      <td>0.010000</td>\n",
              "      <td>0.000000</td>\n",
              "    </tr>\n",
              "    <tr>\n",
              "      <th>75%</th>\n",
              "      <td>1.000000</td>\n",
              "      <td>1.000000</td>\n",
              "      <td>9.000000</td>\n",
              "      <td>0.000000</td>\n",
              "      <td>5.000000</td>\n",
              "      <td>0.000000</td>\n",
              "      <td>0.000000</td>\n",
              "      <td>0.000000</td>\n",
              "      <td>0.000000</td>\n",
              "      <td>0.000000</td>\n",
              "      <td>...</td>\n",
              "      <td>1.000000</td>\n",
              "      <td>1.000000</td>\n",
              "      <td>16.000000</td>\n",
              "      <td>1.000000</td>\n",
              "      <td>1.000000</td>\n",
              "      <td>0.400000</td>\n",
              "      <td>1.000000</td>\n",
              "      <td>1.000000</td>\n",
              "      <td>0.020000</td>\n",
              "      <td>0.000000</td>\n",
              "    </tr>\n",
              "    <tr>\n",
              "      <th>max</th>\n",
              "      <td>1.000000</td>\n",
              "      <td>1.000000</td>\n",
              "      <td>56.000000</td>\n",
              "      <td>1.000000</td>\n",
              "      <td>11.000000</td>\n",
              "      <td>1.000000</td>\n",
              "      <td>2.000000</td>\n",
              "      <td>1.000000</td>\n",
              "      <td>1.000000</td>\n",
              "      <td>1.000000</td>\n",
              "      <td>...</td>\n",
              "      <td>1.000000</td>\n",
              "      <td>1.000000</td>\n",
              "      <td>100.000100</td>\n",
              "      <td>1.000000</td>\n",
              "      <td>1.000000</td>\n",
              "      <td>50.000100</td>\n",
              "      <td>1.000000</td>\n",
              "      <td>1.000000</td>\n",
              "      <td>9.560000</td>\n",
              "      <td>1.000000</td>\n",
              "    </tr>\n",
              "  </tbody>\n",
              "</table>\n",
              "<p>8 rows × 80 columns</p>\n",
              "</div>\n",
              "      <button class=\"colab-df-convert\" onclick=\"convertToInteractive('df-4826f689-0bad-478a-ac52-89998d73acc3')\"\n",
              "              title=\"Convert this dataframe to an interactive table.\"\n",
              "              style=\"display:none;\">\n",
              "        \n",
              "  <svg xmlns=\"http://www.w3.org/2000/svg\" height=\"24px\"viewBox=\"0 0 24 24\"\n",
              "       width=\"24px\">\n",
              "    <path d=\"M0 0h24v24H0V0z\" fill=\"none\"/>\n",
              "    <path d=\"M18.56 5.44l.94 2.06.94-2.06 2.06-.94-2.06-.94-.94-2.06-.94 2.06-2.06.94zm-11 1L8.5 8.5l.94-2.06 2.06-.94-2.06-.94L8.5 2.5l-.94 2.06-2.06.94zm10 10l.94 2.06.94-2.06 2.06-.94-2.06-.94-.94-2.06-.94 2.06-2.06.94z\"/><path d=\"M17.41 7.96l-1.37-1.37c-.4-.4-.92-.59-1.43-.59-.52 0-1.04.2-1.43.59L10.3 9.45l-7.72 7.72c-.78.78-.78 2.05 0 2.83L4 21.41c.39.39.9.59 1.41.59.51 0 1.02-.2 1.41-.59l7.78-7.78 2.81-2.81c.8-.78.8-2.07 0-2.86zM5.41 20L4 18.59l7.72-7.72 1.47 1.35L5.41 20z\"/>\n",
              "  </svg>\n",
              "      </button>\n",
              "      \n",
              "  <style>\n",
              "    .colab-df-container {\n",
              "      display:flex;\n",
              "      flex-wrap:wrap;\n",
              "      gap: 12px;\n",
              "    }\n",
              "\n",
              "    .colab-df-convert {\n",
              "      background-color: #E8F0FE;\n",
              "      border: none;\n",
              "      border-radius: 50%;\n",
              "      cursor: pointer;\n",
              "      display: none;\n",
              "      fill: #1967D2;\n",
              "      height: 32px;\n",
              "      padding: 0 0 0 0;\n",
              "      width: 32px;\n",
              "    }\n",
              "\n",
              "    .colab-df-convert:hover {\n",
              "      background-color: #E2EBFA;\n",
              "      box-shadow: 0px 1px 2px rgba(60, 64, 67, 0.3), 0px 1px 3px 1px rgba(60, 64, 67, 0.15);\n",
              "      fill: #174EA6;\n",
              "    }\n",
              "\n",
              "    [theme=dark] .colab-df-convert {\n",
              "      background-color: #3B4455;\n",
              "      fill: #D2E3FC;\n",
              "    }\n",
              "\n",
              "    [theme=dark] .colab-df-convert:hover {\n",
              "      background-color: #434B5C;\n",
              "      box-shadow: 0px 1px 3px 1px rgba(0, 0, 0, 0.15);\n",
              "      filter: drop-shadow(0px 1px 2px rgba(0, 0, 0, 0.3));\n",
              "      fill: #FFFFFF;\n",
              "    }\n",
              "  </style>\n",
              "\n",
              "      <script>\n",
              "        const buttonEl =\n",
              "          document.querySelector('#df-4826f689-0bad-478a-ac52-89998d73acc3 button.colab-df-convert');\n",
              "        buttonEl.style.display =\n",
              "          google.colab.kernel.accessAllowed ? 'block' : 'none';\n",
              "\n",
              "        async function convertToInteractive(key) {\n",
              "          const element = document.querySelector('#df-4826f689-0bad-478a-ac52-89998d73acc3');\n",
              "          const dataTable =\n",
              "            await google.colab.kernel.invokeFunction('convertToInteractive',\n",
              "                                                     [key], {});\n",
              "          if (!dataTable) return;\n",
              "\n",
              "          const docLinkHtml = 'Like what you see? Visit the ' +\n",
              "            '<a target=\"_blank\" href=https://colab.research.google.com/notebooks/data_table.ipynb>data table notebook</a>'\n",
              "            + ' to learn more about interactive tables.';\n",
              "          element.innerHTML = '';\n",
              "          dataTable['output_type'] = 'display_data';\n",
              "          await google.colab.output.renderOutput(dataTable, element);\n",
              "          const docLink = document.createElement('div');\n",
              "          docLink.innerHTML = docLinkHtml;\n",
              "          element.appendChild(docLink);\n",
              "        }\n",
              "      </script>\n",
              "    </div>\n",
              "  </div>\n",
              "  "
            ]
          },
          "metadata": {},
          "execution_count": 18
        }
      ]
    },
    {
      "cell_type": "code",
      "source": [
        "df = pd.DataFrame(data) \n",
        "print(df)"
      ],
      "metadata": {
        "colab": {
          "base_uri": "https://localhost:8080/"
        },
        "id": "joBp58WUJH7G",
        "outputId": "e0c05c6e-0163-4ffb-d13f-d3f91f3614fe"
      },
      "execution_count": null,
      "outputs": [
        {
          "output_type": "stream",
          "name": "stdout",
          "text": [
            "      Derivation cohort  LOS_Y  LOS  Death   Age  Severity  MI  PVD  CHF  CVD  \\\n",
            "0                     1      1    1      0   >80         3   0    0    0    0   \n",
            "1                     1      1    2      1   >60         7   0    1    0    0   \n",
            "2                     1      1    2      1   >80         7   0    1    1    1   \n",
            "3                     1      1   15      0   >70         9   1    0    0    0   \n",
            "4                     1      1    9      0   >70         7   0    0    0    0   \n",
            "...                 ...    ...  ...    ...   ...       ...  ..  ...  ...  ...   \n",
            "4706                  0      1    4      0   >70         4   0    0    0    0   \n",
            "4707                  0      1    2      0   >60         2   0    1    0    0   \n",
            "4708                  0      0    0      0   >60         1   0    1    0    0   \n",
            "4709                  0      0    0      0   >80         3   0    1    0    0   \n",
            "4710                  0      0    0      0  0-60         2   0    1    0    0   \n",
            "\n",
            "      ...  Ferritin > 300  CrctProtYes  CrctProtein  C-Reactive Prot > 10  \\\n",
            "0     ...               0            1       0.4999                     0   \n",
            "1     ...               1            1      14.9000                     1   \n",
            "2     ...               1            1      33.9000                     1   \n",
            "3     ...               1            1      18.4000                     1   \n",
            "4     ...               1            1      11.6000                     1   \n",
            "...   ...             ...          ...          ...                   ...   \n",
            "4706  ...               0            1       1.8000                     0   \n",
            "4707  ...               1            1       3.1000                     0   \n",
            "4708  ...               0            1       0.4999                     0   \n",
            "4709  ...               1            1       8.6000                     0   \n",
            "4710  ...               0            1       0.0000                     0   \n",
            "\n",
            "      ProCalCYes  Procalcitonin  Procalciton > 0.1  TropYes  Troponin  \\\n",
            "0              0         0.0000                  0        1      0.01   \n",
            "1              1         0.6000                  1        1      1.20   \n",
            "2              1         1.2000                  1        0      0.00   \n",
            "3              1         7.3000                  1        1      0.05   \n",
            "4              0         0.0000                  0        1      0.01   \n",
            "...          ...            ...                ...      ...       ...   \n",
            "4706           1         0.0999                  0        1      0.01   \n",
            "4707           1         0.0999                  0        1      0.01   \n",
            "4708           1         0.0000                  0        0      0.00   \n",
            "4709           1         0.1000                  0        1      0.01   \n",
            "4710           1         0.0000                  0        0      0.00   \n",
            "\n",
            "      Troponin > 0.1  \n",
            "0                  0  \n",
            "1                  1  \n",
            "2                  0  \n",
            "3                  0  \n",
            "4                  0  \n",
            "...              ...  \n",
            "4706               0  \n",
            "4707               0  \n",
            "4708               0  \n",
            "4709               0  \n",
            "4710               0  \n",
            "\n",
            "[4711 rows x 81 columns]\n"
          ]
        }
      ]
    },
    {
      "cell_type": "code",
      "source": [
        "\n",
        "\n",
        "#y = data['Death']#Devison de données dépondantes et indépondantes\n",
        "\n",
        "from sklearn.model_selection import train_test_split\n",
        " \n",
        "x = data.drop(['Death', 'Severity','Age'], axis=1)\n",
        "y = data['Death']\n",
        "\n",
        "print('x', x.shape)\n",
        "\n",
        "print('y', y)\n",
        "\n",
        "\n",
        "\n"
      ],
      "metadata": {
        "colab": {
          "base_uri": "https://localhost:8080/"
        },
        "id": "mZ65DvN2UuGX",
        "outputId": "ee96c9f0-5267-4bb8-d818-f7d899bc1d10"
      },
      "execution_count": null,
      "outputs": [
        {
          "output_type": "stream",
          "name": "stdout",
          "text": [
            "x (4711, 78)\n",
            "y 0       0\n",
            "1       1\n",
            "2       1\n",
            "3       0\n",
            "4       0\n",
            "       ..\n",
            "4706    0\n",
            "4707    0\n",
            "4708    0\n",
            "4709    0\n",
            "4710    0\n",
            "Name: Death, Length: 4711, dtype: int64\n"
          ]
        }
      ]
    },
    {
      "cell_type": "code",
      "source": [
        "\n",
        "#standarisation des données\n",
        "scaler = StandardScaler();\n",
        "x_scaled = scaler.fit_transform(x)\n",
        "print(x_scaled)\n",
        "\n"
      ],
      "metadata": {
        "colab": {
          "base_uri": "https://localhost:8080/"
        },
        "id": "qFb0G2wzXNTk",
        "outputId": "c8cb770b-00f6-4722-df8b-8f94fa2e3221"
      },
      "execution_count": null,
      "outputs": [
        {
          "output_type": "stream",
          "name": "stdout",
          "text": [
            "[[ 1.00063701  0.27934215 -0.87640231 ...  0.39685496 -0.15499055\n",
            "  -0.3249754 ]\n",
            " [ 1.00063701  0.27934215 -0.73413528 ...  0.39685496  4.28313254\n",
            "   3.07715597]\n",
            " [ 1.00063701  0.27934215 -0.73413528 ... -2.51981229 -0.1922857\n",
            "  -0.3249754 ]\n",
            " ...\n",
            " [-0.9993634  -3.57983928 -1.01866933 ... -2.51981229 -0.1922857\n",
            "  -0.3249754 ]\n",
            " [-0.9993634  -3.57983928 -1.01866933 ...  0.39685496 -0.15499055\n",
            "  -0.3249754 ]\n",
            " [-0.9993634  -3.57983928 -1.01866933 ... -2.51981229 -0.1922857\n",
            "  -0.3249754 ]]\n"
          ]
        }
      ]
    },
    {
      "cell_type": "code",
      "source": [
        ""
      ],
      "metadata": {
        "colab": {
          "base_uri": "https://localhost:8080/"
        },
        "id": "0kZ70bCASU10",
        "outputId": "aaf8f521-c1e8-4338-e149-c6737146f617"
      },
      "execution_count": null,
      "outputs": [
        {
          "output_type": "stream",
          "name": "stdout",
          "text": [
            "x (4711, 80)\n"
          ]
        }
      ]
    },
    {
      "cell_type": "code",
      "source": [
        "print('y', y.shape)"
      ],
      "metadata": {
        "colab": {
          "base_uri": "https://localhost:8080/"
        },
        "id": "lfBlXuF_Seoi",
        "outputId": "0995b2a2-2c1f-44d7-9bc9-38ae1c57f654"
      },
      "execution_count": null,
      "outputs": [
        {
          "output_type": "stream",
          "name": "stdout",
          "text": [
            "y (4711,)\n"
          ]
        }
      ]
    },
    {
      "cell_type": "code",
      "source": [
        "#Définir les données de test et d'entrainement , test pour verifier la presision de notre reseau /entraiement : nos data d'entrées\n",
        "x_train, x_test, y_train, y_test = train_test_split(x_scaled, y, test_size=0.2, random_state= 42)"
      ],
      "metadata": {
        "id": "9FFuI8oqqw-m"
      },
      "execution_count": null,
      "outputs": []
    },
    {
      "cell_type": "code",
      "source": [
        "    # initialiser le modele \n",
        "\n",
        "    modele = tf.keras.models.Sequential()\n",
        "    # ajouter la premiere couche \n",
        "    modele.add(tf.keras.layers.Dense(100, activation = 'relu',input_shape = [x_train.shape[1]]))\n",
        "    # couches chachées,\n",
        "    modele.add(tf.keras.layers.Dense(100, activation = 'relu'))\n",
        "    modele.add(tf.keras.layers.Dense(100, activation = 'relu'))\n",
        "    # la fonction de sortie\n",
        "    modele.add(tf.keras.layers.Dense(units=1, activation='sigmoid'))\n",
        "    # Compiler le reseau\n",
        "    modele.compile(loss='binary_crossentropy', optimizer='adam', metrics=['binary_accuracy']) # Accuracy performance metrice\n",
        "    #appliquer le modele sur nos données\n",
        "    training = modele.fit(x_train, y_train, validation_data=(x_test, y_test), epochs=80)\n",
        "    #evaluer le model\n",
        "    score= modele.evaluate(x_train,y_train) \n",
        "    #evaluer la précision\n",
        "    print(\"Précision de l'entraînement : %.2f%%\\n \" % (score[1]*100)) \n",
        "    scoreT= modele.evaluate(x_test,y_test) \n",
        "    print (\"Précision des tests : %.2f%%\\n \" % (scoreT[1]*100))\n",
        "\n",
        "    #2 couche  : 1 RELU et 1 sigmoid\n",
        "    #nombre de noeuds des chouche caché et entrée :50  et  1  pendant 50 epoque =>  Précision de l'entraînement: 97.08% ,Précision des tests :82.61%\n",
        "    #nombre de noeuds des chouche caché et entrée :100 et  1  pendant 50 epoque =>  Précision de l'entraînement : 99.34%   ,Précision des tests : 81.65%\n",
        "\n",
        "    #nombre de noeuds des chouche caché et entrée :50  et  1  pendant 80 epoque =>  Précision de l'entraînement 99.12%   ,Précision des tests : 81.23%\n",
        "    #nombre de noeuds des chouche caché et entrée :100 et  1  pendant 80 epoque =>  Précision de l'entraînement 99.87%  : ,Précision des tests : 81.34%\n",
        "\n",
        "   #nombre de noeuds des chouche caché et entrée :50 et  1  pendant 120 epoque =>  Précision de l'entraînement 99.95%  ,Précision des tests :80.70%\n",
        "   #nombre de noeuds des chouche caché et entrée :100 et  1  pendant 120 epoque =>  Précision de l'entraînement 99.95   ,Précision des tests : 81.55%\n",
        "\n",
        "    #3 couche  : 2 RELU et 1 sigmoid\n",
        "    #nombre de noeuds des chouche caché et entrée :50/50  et  1  pendant 50 epoque =>  Précision de l'entraînement 99.68%: ,Précision des tests :79.22%\n",
        "    #nombre de noeuds des chouche caché et entrée :100/100 et  1  pendant 50 epoque =>  Précision de l'entraînement : 99.97%  ,Précision des tests : 81.97%\n",
        "\n",
        "    #nombre de noeuds des chouche caché et entrée :50/50  et  1  pendant 80 epoque =>  Précision de l'entraînement  99.97%   ,Précision des tests : 80.06\n",
        "    #nombre de noeuds des chouche caché et entrée :100/100  et  1  pendant 80 epoque =>  Précision de l'entraînement 99.97%  : ,Précision des tests : 80.81%\n",
        "\n",
        "   #nombre de noeuds des chouche caché et entrée :50/50 et  1  pendant 120 epoque =>  Précision de l'entraînement 99.97%   ,Précision des tests : 80.59%\n",
        "   #nombre de noeuds des chouche caché et entrée :100/100  et  1  pendant 120 epoque =>  Précision de l'entraînement 99.97%   ,Précision des tests : 81.97%\n",
        "\n",
        "    #4 couche  : 3 RELU et 1 sigmoid \n",
        "    #nombre de noeuds des chouche caché et entrée :50/50/50  et  1  pendant 50 epoque =>  Précision de l'entraînement 99.95%: ,Précision des tests : 78.47%\n",
        "    #nombre de noeuds des chouche caché et entrée :100/100/100  et  1  pendant 50 epoque =>  Précision de l'entraînement 99.95%: ,Précision des tests : 80.91%\n",
        "\n",
        "    #nombre de noeuds des chouche caché et entrée :50/50/50  et  1  pendant 80 epoque =>  Précision de l'entraînement  99.97% ,Précision des tests : 79.96%\n",
        "    #####nombre de noeuds des chouche caché et entrée :100/100/100  et  1  pendant 80 epoque =>  Précision de l'entraînement  99.97% : ,Précision des tests :  82.50%\n",
        "  \n",
        "    #nombre de noeuds des chouche caché et entrée :100/200/100  et  1  pendant 80 epoque =>  Précision de l'entraînement  99.97% : ,Précision des tests :  82.50%\n",
        "     #nombre de noeuds des chouche caché et entrée :100/100/100/100 (softmax)et   pendant 80 epoque =>  Précision de l'entraînement 23.99%  : ,Précision des tests :  \n",
        "\n",
        "   #nombre de noeuds des chouche caché et entrée :50/50/50  et  1  pendant 120 epoque =>  Précision de l'entraînement 99.97%   ,Précision des tests : 81.02% \n",
        "   #nombre de noeuds des chouche caché et entrée :100/100/100  et  1  pendant 120 epoque =>  Précision de l'entraînement  99.87%  : ,Précision des tests : 80.38%\n",
        "\n",
        "   #5 couche  : 4 RELU et 1 sigmoid \n",
        "   #nombre de noeuds des chouche caché et entrée :50/50/50/50  et  1  pendant 50 epoque =>  Précision de l'entraînement 99.92%  ,Précision des tests : 79.53%\n",
        "   #nombre de noeuds des chouche caché et entrée :100/100/100/100 et  1  pendant 50 epoque =>  Précision de l'entraînement 99.68% ,Précision des tests : 78.37%\n",
        "\n",
        "   #nombre de noeuds des chouche caché et entrée :50/50/50/50 et  1  pendant 80 epoque =>  Précision de l'entraînement 99.97% ,Précision des tests : 80.38%\n",
        "   #nombre de noeuds des chouche caché et entrée :100/100/100/100 et  1  pendant 80 epoque =>  Précision de l'entraînement  99.58%  : ,Précision des tests :  80.17%\n",
        "\n",
        "   #nombre de noeuds des chouche caché et entrée :50/50/50/50  et  1  pendant 120 epoque =>  Précision de l'entraînement 99.89%  ,Précision des tests : 80.91%\n",
        "   #nombre de noeuds des chouche caché et entrée :100/100/100/100 et  1  pendant 120 epoque =>  Précision de l'entraînement  98.67%  : ,Précision des tests : 80.49%\n",
        "   \n",
        "   #Couche terminale Softmax précision trés faible \n"
      ],
      "metadata": {
        "colab": {
          "base_uri": "https://localhost:8080/"
        },
        "id": "OfCsQzgUErdX",
        "outputId": "fb67aadb-8611-4b2f-d683-e4ca8c257241"
      },
      "execution_count": null,
      "outputs": [
        {
          "output_type": "stream",
          "name": "stdout",
          "text": [
            "Epoch 1/80\n",
            "118/118 [==============================] - 1s 4ms/step - loss: 0.4453 - binary_accuracy: 0.7983 - val_loss: 0.3935 - val_binary_accuracy: 0.8240\n",
            "Epoch 2/80\n",
            "118/118 [==============================] - 0s 3ms/step - loss: 0.3524 - binary_accuracy: 0.8498 - val_loss: 0.3873 - val_binary_accuracy: 0.8229\n",
            "Epoch 3/80\n",
            "118/118 [==============================] - 0s 3ms/step - loss: 0.3168 - binary_accuracy: 0.8652 - val_loss: 0.4101 - val_binary_accuracy: 0.8229\n",
            "Epoch 4/80\n",
            "118/118 [==============================] - 0s 3ms/step - loss: 0.2890 - binary_accuracy: 0.8715 - val_loss: 0.4023 - val_binary_accuracy: 0.8208\n",
            "Epoch 5/80\n",
            "118/118 [==============================] - 0s 3ms/step - loss: 0.2574 - binary_accuracy: 0.8891 - val_loss: 0.4091 - val_binary_accuracy: 0.8356\n",
            "Epoch 6/80\n",
            "118/118 [==============================] - 0s 3ms/step - loss: 0.2298 - binary_accuracy: 0.9026 - val_loss: 0.4292 - val_binary_accuracy: 0.8155\n",
            "Epoch 7/80\n",
            "118/118 [==============================] - 0s 3ms/step - loss: 0.2013 - binary_accuracy: 0.9206 - val_loss: 0.4764 - val_binary_accuracy: 0.8059\n",
            "Epoch 8/80\n",
            "118/118 [==============================] - 0s 3ms/step - loss: 0.1748 - binary_accuracy: 0.9315 - val_loss: 0.5282 - val_binary_accuracy: 0.8208\n",
            "Epoch 9/80\n",
            "118/118 [==============================] - 0s 3ms/step - loss: 0.1315 - binary_accuracy: 0.9509 - val_loss: 0.5740 - val_binary_accuracy: 0.8208\n",
            "Epoch 10/80\n",
            "118/118 [==============================] - 1s 4ms/step - loss: 0.1080 - binary_accuracy: 0.9631 - val_loss: 0.6295 - val_binary_accuracy: 0.8165\n",
            "Epoch 11/80\n",
            "118/118 [==============================] - 1s 7ms/step - loss: 0.0849 - binary_accuracy: 0.9713 - val_loss: 0.7602 - val_binary_accuracy: 0.8208\n",
            "Epoch 12/80\n",
            "118/118 [==============================] - 1s 7ms/step - loss: 0.0806 - binary_accuracy: 0.9788 - val_loss: 0.7213 - val_binary_accuracy: 0.8165\n",
            "Epoch 13/80\n",
            "118/118 [==============================] - 1s 7ms/step - loss: 0.0514 - binary_accuracy: 0.9857 - val_loss: 0.8081 - val_binary_accuracy: 0.8144\n",
            "Epoch 14/80\n",
            "118/118 [==============================] - 1s 8ms/step - loss: 0.0586 - binary_accuracy: 0.9849 - val_loss: 0.9177 - val_binary_accuracy: 0.8134\n",
            "Epoch 15/80\n",
            "118/118 [==============================] - 1s 7ms/step - loss: 0.0535 - binary_accuracy: 0.9833 - val_loss: 0.9094 - val_binary_accuracy: 0.8197\n",
            "Epoch 16/80\n",
            "118/118 [==============================] - 1s 6ms/step - loss: 0.0301 - binary_accuracy: 0.9934 - val_loss: 1.0237 - val_binary_accuracy: 0.8091\n",
            "Epoch 17/80\n",
            "118/118 [==============================] - 1s 4ms/step - loss: 0.0237 - binary_accuracy: 0.9958 - val_loss: 1.0629 - val_binary_accuracy: 0.8165\n",
            "Epoch 18/80\n",
            "118/118 [==============================] - 0s 3ms/step - loss: 0.0232 - binary_accuracy: 0.9960 - val_loss: 1.0856 - val_binary_accuracy: 0.8134\n",
            "Epoch 19/80\n",
            "118/118 [==============================] - 0s 3ms/step - loss: 0.0146 - binary_accuracy: 0.9973 - val_loss: 1.1414 - val_binary_accuracy: 0.8165\n",
            "Epoch 20/80\n",
            "118/118 [==============================] - 0s 3ms/step - loss: 0.0168 - binary_accuracy: 0.9965 - val_loss: 1.1028 - val_binary_accuracy: 0.8112\n",
            "Epoch 21/80\n",
            "118/118 [==============================] - 0s 3ms/step - loss: 0.0690 - binary_accuracy: 0.9743 - val_loss: 1.0515 - val_binary_accuracy: 0.8144\n",
            "Epoch 22/80\n",
            "118/118 [==============================] - 0s 3ms/step - loss: 0.0602 - binary_accuracy: 0.9812 - val_loss: 0.9181 - val_binary_accuracy: 0.7996\n",
            "Epoch 23/80\n",
            "118/118 [==============================] - 0s 3ms/step - loss: 0.0351 - binary_accuracy: 0.9894 - val_loss: 1.1189 - val_binary_accuracy: 0.8229\n",
            "Epoch 24/80\n",
            "118/118 [==============================] - 0s 3ms/step - loss: 0.0192 - binary_accuracy: 0.9968 - val_loss: 1.0707 - val_binary_accuracy: 0.8218\n",
            "Epoch 25/80\n",
            "118/118 [==============================] - 0s 3ms/step - loss: 0.0047 - binary_accuracy: 0.9995 - val_loss: 1.1483 - val_binary_accuracy: 0.8250\n",
            "Epoch 26/80\n",
            "118/118 [==============================] - 0s 3ms/step - loss: 0.0055 - binary_accuracy: 0.9992 - val_loss: 1.2323 - val_binary_accuracy: 0.8261\n",
            "Epoch 27/80\n",
            "118/118 [==============================] - 0s 3ms/step - loss: 0.0053 - binary_accuracy: 0.9989 - val_loss: 1.2266 - val_binary_accuracy: 0.8155\n",
            "Epoch 28/80\n",
            "118/118 [==============================] - 0s 3ms/step - loss: 0.0062 - binary_accuracy: 0.9981 - val_loss: 1.2504 - val_binary_accuracy: 0.8134\n",
            "Epoch 29/80\n",
            "118/118 [==============================] - 0s 3ms/step - loss: 0.0033 - binary_accuracy: 0.9989 - val_loss: 1.3322 - val_binary_accuracy: 0.8250\n",
            "Epoch 30/80\n",
            "118/118 [==============================] - 0s 3ms/step - loss: 0.0036 - binary_accuracy: 0.9992 - val_loss: 1.3100 - val_binary_accuracy: 0.8208\n",
            "Epoch 31/80\n",
            "118/118 [==============================] - 0s 3ms/step - loss: 0.0055 - binary_accuracy: 0.9987 - val_loss: 1.3796 - val_binary_accuracy: 0.8218\n",
            "Epoch 32/80\n",
            "118/118 [==============================] - 0s 3ms/step - loss: 0.0445 - binary_accuracy: 0.9833 - val_loss: 1.2272 - val_binary_accuracy: 0.8176\n",
            "Epoch 33/80\n",
            "118/118 [==============================] - 0s 3ms/step - loss: 0.0670 - binary_accuracy: 0.9774 - val_loss: 1.0623 - val_binary_accuracy: 0.8070\n",
            "Epoch 34/80\n",
            "118/118 [==============================] - 0s 3ms/step - loss: 0.0543 - binary_accuracy: 0.9841 - val_loss: 1.0429 - val_binary_accuracy: 0.8123\n",
            "Epoch 35/80\n",
            "118/118 [==============================] - 0s 3ms/step - loss: 0.0254 - binary_accuracy: 0.9915 - val_loss: 1.1457 - val_binary_accuracy: 0.8091\n",
            "Epoch 36/80\n",
            "118/118 [==============================] - 0s 3ms/step - loss: 0.0081 - binary_accuracy: 0.9984 - val_loss: 1.2187 - val_binary_accuracy: 0.8208\n",
            "Epoch 37/80\n",
            "118/118 [==============================] - 0s 3ms/step - loss: 0.0031 - binary_accuracy: 0.9995 - val_loss: 1.2639 - val_binary_accuracy: 0.8123\n",
            "Epoch 38/80\n",
            "118/118 [==============================] - 0s 3ms/step - loss: 0.0023 - binary_accuracy: 0.9995 - val_loss: 1.3336 - val_binary_accuracy: 0.8208\n",
            "Epoch 39/80\n",
            "118/118 [==============================] - 0s 3ms/step - loss: 0.0032 - binary_accuracy: 0.9992 - val_loss: 1.3351 - val_binary_accuracy: 0.8144\n",
            "Epoch 40/80\n",
            "118/118 [==============================] - 0s 3ms/step - loss: 0.0060 - binary_accuracy: 0.9987 - val_loss: 1.3398 - val_binary_accuracy: 0.8208\n",
            "Epoch 41/80\n",
            "118/118 [==============================] - 0s 3ms/step - loss: 0.0135 - binary_accuracy: 0.9958 - val_loss: 1.4107 - val_binary_accuracy: 0.8155\n",
            "Epoch 42/80\n",
            "118/118 [==============================] - 0s 3ms/step - loss: 0.0065 - binary_accuracy: 0.9981 - val_loss: 1.4317 - val_binary_accuracy: 0.8017\n",
            "Epoch 43/80\n",
            "118/118 [==============================] - 0s 3ms/step - loss: 0.0101 - binary_accuracy: 0.9968 - val_loss: 1.4498 - val_binary_accuracy: 0.8208\n",
            "Epoch 44/80\n",
            "118/118 [==============================] - 0s 3ms/step - loss: 0.0132 - binary_accuracy: 0.9955 - val_loss: 1.5991 - val_binary_accuracy: 0.8038\n",
            "Epoch 45/80\n",
            "118/118 [==============================] - 0s 3ms/step - loss: 0.0479 - binary_accuracy: 0.9835 - val_loss: 1.3707 - val_binary_accuracy: 0.8081\n",
            "Epoch 46/80\n",
            "118/118 [==============================] - 0s 3ms/step - loss: 0.0426 - binary_accuracy: 0.9867 - val_loss: 1.1269 - val_binary_accuracy: 0.8134\n",
            "Epoch 47/80\n",
            "118/118 [==============================] - 0s 3ms/step - loss: 0.0099 - binary_accuracy: 0.9965 - val_loss: 1.3483 - val_binary_accuracy: 0.8144\n",
            "Epoch 48/80\n",
            "118/118 [==============================] - 0s 3ms/step - loss: 0.0081 - binary_accuracy: 0.9979 - val_loss: 1.3457 - val_binary_accuracy: 0.8187\n",
            "Epoch 49/80\n",
            "118/118 [==============================] - 0s 3ms/step - loss: 0.0045 - binary_accuracy: 0.9987 - val_loss: 1.4007 - val_binary_accuracy: 0.8134\n",
            "Epoch 50/80\n",
            "118/118 [==============================] - 0s 3ms/step - loss: 0.0097 - binary_accuracy: 0.9963 - val_loss: 1.3385 - val_binary_accuracy: 0.8091\n",
            "Epoch 51/80\n",
            "118/118 [==============================] - 0s 3ms/step - loss: 0.0071 - binary_accuracy: 0.9979 - val_loss: 1.3471 - val_binary_accuracy: 0.8176\n",
            "Epoch 52/80\n",
            "118/118 [==============================] - 0s 3ms/step - loss: 0.0020 - binary_accuracy: 0.9997 - val_loss: 1.4053 - val_binary_accuracy: 0.8155\n",
            "Epoch 53/80\n",
            "118/118 [==============================] - 0s 3ms/step - loss: 0.0019 - binary_accuracy: 0.9995 - val_loss: 1.4640 - val_binary_accuracy: 0.8134\n",
            "Epoch 54/80\n",
            "118/118 [==============================] - 0s 3ms/step - loss: 0.0012 - binary_accuracy: 0.9997 - val_loss: 1.4748 - val_binary_accuracy: 0.8176\n",
            "Epoch 55/80\n",
            "118/118 [==============================] - 0s 3ms/step - loss: 0.0010 - binary_accuracy: 0.9997 - val_loss: 1.5187 - val_binary_accuracy: 0.8197\n",
            "Epoch 56/80\n",
            "118/118 [==============================] - 0s 3ms/step - loss: 0.0010 - binary_accuracy: 0.9995 - val_loss: 1.5573 - val_binary_accuracy: 0.8176\n",
            "Epoch 57/80\n",
            "118/118 [==============================] - 0s 3ms/step - loss: 0.0017 - binary_accuracy: 0.9997 - val_loss: 1.5400 - val_binary_accuracy: 0.8197\n",
            "Epoch 58/80\n",
            "118/118 [==============================] - 0s 3ms/step - loss: 0.0012 - binary_accuracy: 0.9995 - val_loss: 1.5912 - val_binary_accuracy: 0.8155\n",
            "Epoch 59/80\n",
            "118/118 [==============================] - 0s 3ms/step - loss: 0.0034 - binary_accuracy: 0.9989 - val_loss: 1.5540 - val_binary_accuracy: 0.8165\n",
            "Epoch 60/80\n",
            "118/118 [==============================] - 0s 3ms/step - loss: 0.0015 - binary_accuracy: 0.9997 - val_loss: 1.6079 - val_binary_accuracy: 0.8187\n",
            "Epoch 61/80\n",
            "118/118 [==============================] - 0s 3ms/step - loss: 0.0049 - binary_accuracy: 0.9984 - val_loss: 1.5102 - val_binary_accuracy: 0.8165\n",
            "Epoch 62/80\n",
            "118/118 [==============================] - 0s 3ms/step - loss: 0.0024 - binary_accuracy: 0.9992 - val_loss: 1.5344 - val_binary_accuracy: 0.8155\n",
            "Epoch 63/80\n",
            "118/118 [==============================] - 0s 3ms/step - loss: 0.0010 - binary_accuracy: 0.9997 - val_loss: 1.6035 - val_binary_accuracy: 0.8187\n",
            "Epoch 64/80\n",
            "118/118 [==============================] - 0s 3ms/step - loss: 0.0011 - binary_accuracy: 0.9995 - val_loss: 1.6257 - val_binary_accuracy: 0.8155\n",
            "Epoch 65/80\n",
            "118/118 [==============================] - 0s 3ms/step - loss: 7.7940e-04 - binary_accuracy: 0.9995 - val_loss: 1.6691 - val_binary_accuracy: 0.8187\n",
            "Epoch 66/80\n",
            "118/118 [==============================] - 0s 3ms/step - loss: 0.0010 - binary_accuracy: 0.9997 - val_loss: 1.6782 - val_binary_accuracy: 0.8176\n",
            "Epoch 67/80\n",
            "118/118 [==============================] - 0s 3ms/step - loss: 0.0011 - binary_accuracy: 0.9997 - val_loss: 1.7064 - val_binary_accuracy: 0.8187\n",
            "Epoch 68/80\n",
            "118/118 [==============================] - 0s 3ms/step - loss: 0.0027 - binary_accuracy: 0.9995 - val_loss: 1.6650 - val_binary_accuracy: 0.8144\n",
            "Epoch 69/80\n",
            "118/118 [==============================] - 0s 3ms/step - loss: 0.0033 - binary_accuracy: 0.9989 - val_loss: 1.6566 - val_binary_accuracy: 0.8049\n",
            "Epoch 70/80\n",
            "118/118 [==============================] - 0s 3ms/step - loss: 0.0559 - binary_accuracy: 0.9814 - val_loss: 1.0046 - val_binary_accuracy: 0.8070\n",
            "Epoch 71/80\n",
            "118/118 [==============================] - 0s 3ms/step - loss: 0.1064 - binary_accuracy: 0.9554 - val_loss: 0.9782 - val_binary_accuracy: 0.7943\n",
            "Epoch 72/80\n",
            "118/118 [==============================] - 0s 3ms/step - loss: 0.0373 - binary_accuracy: 0.9878 - val_loss: 1.2972 - val_binary_accuracy: 0.8017\n",
            "Epoch 73/80\n",
            "118/118 [==============================] - 0s 3ms/step - loss: 0.0309 - binary_accuracy: 0.9910 - val_loss: 1.2380 - val_binary_accuracy: 0.8155\n",
            "Epoch 74/80\n",
            "118/118 [==============================] - 0s 3ms/step - loss: 0.0067 - binary_accuracy: 0.9976 - val_loss: 1.3703 - val_binary_accuracy: 0.8102\n",
            "Epoch 75/80\n",
            "118/118 [==============================] - 0s 3ms/step - loss: 0.0036 - binary_accuracy: 0.9992 - val_loss: 1.5206 - val_binary_accuracy: 0.8144\n",
            "Epoch 76/80\n",
            "118/118 [==============================] - 0s 3ms/step - loss: 0.0061 - binary_accuracy: 0.9984 - val_loss: 1.5307 - val_binary_accuracy: 0.8081\n",
            "Epoch 77/80\n",
            "118/118 [==============================] - 0s 3ms/step - loss: 0.0034 - binary_accuracy: 0.9992 - val_loss: 1.5621 - val_binary_accuracy: 0.8165\n",
            "Epoch 78/80\n",
            "118/118 [==============================] - 0s 3ms/step - loss: 0.0057 - binary_accuracy: 0.9981 - val_loss: 1.7384 - val_binary_accuracy: 0.8091\n",
            "Epoch 79/80\n",
            "118/118 [==============================] - 0s 3ms/step - loss: 0.0037 - binary_accuracy: 0.9992 - val_loss: 1.7223 - val_binary_accuracy: 0.8081\n",
            "Epoch 80/80\n",
            "118/118 [==============================] - 0s 3ms/step - loss: 0.0014 - binary_accuracy: 0.9997 - val_loss: 1.7832 - val_binary_accuracy: 0.8102\n",
            "118/118 [==============================] - 0s 2ms/step - loss: 8.5061e-04 - binary_accuracy: 0.9995\n",
            "Précision de l'entraînement : 99.95%\n",
            " \n",
            "30/30 [==============================] - 0s 1ms/step - loss: 1.7832 - binary_accuracy: 0.8102\n",
            "Précision des tests : 81.02%\n",
            " \n"
          ]
        }
      ]
    },
    {
      "cell_type": "code",
      "source": [
        "from sklearn.metrics import confusion_matrix\n",
        "y_pred = modele.predict(x_test) \n",
        "y_pred = (y_pred > 0.1)\n",
        "cm = confusion_matrix(y_test, y_pred)\n",
        "labels = ['Survivre', 'Décéder']\n",
        " \n",
        "sns.heatmap(cm, square=True, annot=True, fmt='d', cbar=False, cmap='Blues',\n",
        "            xticklabels=labels, yticklabels=labels)\n",
        " \n",
        "plt.xlabel('Données prédites ')\n",
        "plt.ylabel('Données actuelles')"
      ],
      "metadata": {
        "colab": {
          "base_uri": "https://localhost:8080/",
          "height": 297
        },
        "id": "iaVM2mWOgWUY",
        "outputId": "ffbcc8a6-a1fa-4cb6-d4ec-667e185026e2"
      },
      "execution_count": null,
      "outputs": [
        {
          "output_type": "execute_result",
          "data": {
            "text/plain": [
              "Text(91.68, 0.5, 'Données actuelles')"
            ]
          },
          "metadata": {},
          "execution_count": 33
        },
        {
          "output_type": "display_data",
          "data": {
            "text/plain": [
              "<Figure size 432x288 with 1 Axes>"
            ],
            "image/png": "[encoded data removed]"
          },
          "metadata": {
            "needs_background": "light"
          }
        }
      ]
    },
    {
      "cell_type": "code",
      "source": [
        "    #visualisation\n",
        "    import matplotlib.pyplot as plt\n",
        "    %matplotlib inline\n",
        "    import seaborn as sns\n",
        "    sns.set()\n",
        "    acc =training.history['binary_accuracy']\n",
        "    loss = training.history['loss']\n",
        "    epochs = range(1, len(acc) + 1)\n",
        "    plt.plot(epochs, acc, '-', label='Training accuracy')\n",
        "    plt.plot(epochs, loss, ':', label='Validation accuracy')\n",
        "    plt.title('Training and Validation Accuracy')\n",
        "    plt.xlabel('Epoch')\n",
        "    plt.ylabel('Accuracy')\n",
        "    plt.legend(loc='lower right')\n",
        "    plt.plot()"
      ],
      "metadata": {
        "colab": {
          "base_uri": "https://localhost:8080/",
          "height": 318
        },
        "id": "3655t_b0zSHd",
        "outputId": "dca57179-4bd1-42cb-f98c-626436a85cc7"
      },
      "execution_count": null,
      "outputs": [
        {
          "output_type": "execute_result",
          "data": {
            "text/plain": [
              "[]"
            ]
          },
          "metadata": {},
          "execution_count": 34
        },
        {
          "output_type": "display_data",
          "data": {
            "text/plain": [
              "<Figure size 432x288 with 1 Axes>"
            ],
            "image/png": "[encoded data removed]"
          },
          "metadata": {}
        }
      ]
    },
    {
      "cell_type": "code",
      "source": [
        "from statistics import mean, stdev \n",
        "from sklearn import preprocessing \n",
        "from sklearn.model_selection import StratifiedKFold \n",
        "from sklearn import linear_model \n",
        "from sklearn import datasets \n",
        "  \n",
        "# Scaled data\n",
        "X_train_scaled = scaler.fit_transform(x_train)\n",
        "X_test_scaled = scaler.transform(x_test) # transform only!\n",
        "lr = linear_model.LogisticRegression() \n",
        "\n",
        "skf = StratifiedKFold(n_splits=20, shuffle=True, random_state=1) \n",
        "\n",
        "lst_accu_stratified = [] \n",
        "   \n",
        "for train_index, test_index in skf.split(x, y): \n",
        "    x_train_fold, x_test_fold = x_scaled[train_index], x_scaled[test_index] \n",
        "    y_train_fold, y_test_fold = y[train_index], y[test_index] \n",
        "    lr.fit(x_train_fold, y_train_fold) \n",
        "    lst_accu_stratified.append(lr.score(x_test_fold, y_test_fold)) \n",
        "   \n",
        "print('List of possible accuracy:', lst_accu_stratified) \n",
        "print('\\nMaximum Accuracy That can be obtained from this model is:', \n",
        "      max(lst_accu_stratified)*100, '%') \n",
        "print('\\nMinimum Accuracy:', \n",
        "      min(lst_accu_stratified)*100, '%') \n",
        "print('\\nOverall Accuracy:', \n",
        "      mean(lst_accu_stratified)*100, '%') \n",
        "print('\\nStandard Deviation is:', stdev(lst_accu_stratified)) "
      ],
      "metadata": {
        "colab": {
          "base_uri": "https://localhost:8080/"
        },
        "id": "1OqFR4ijY1sL",
        "outputId": "400223fe-b4f5-4f68-a654-40013e544a7c"
      },
      "execution_count": null,
      "outputs": [
        {
          "output_type": "stream",
          "name": "stdout",
          "text": [
            "List of possible accuracy: [0.7754237288135594, 0.8771186440677966, 0.8516949152542372, 0.8686440677966102, 0.8389830508474576, 0.8516949152542372, 0.8347457627118644, 0.826271186440678, 0.8177966101694916, 0.826271186440678, 0.8347457627118644, 0.8808510638297873, 0.8340425531914893, 0.8127659574468085, 0.8382978723404255, 0.8340425531914893, 0.8340425531914893, 0.8127659574468085, 0.8553191489361702, 0.8382978723404255]\n",
            "\n",
            "Maximum Accuracy That can be obtained from this model is: 88.08510638297872 %\n",
            "\n",
            "Minimum Accuracy: 77.54237288135593 %\n",
            "\n",
            "Overall Accuracy: 83.71907681211684 %\n",
            "\n",
            "Standard Deviation is: 0.023962049840526224\n"
          ]
        }
      ]
    },
    {
      "cell_type": "code",
      "source": [
        "from sklearn.model_selection import train_test_split\n",
        "from sklearn.model_selection import KFold\n",
        "from sklearn.model_selection import cross_val_score\n",
        "from sklearn.linear_model import LinearRegression\n",
        "from keras import models\n",
        "from keras import layers\n",
        "from keras.wrappers.scikit_learn import KerasClassifier\n",
        "from sklearn.model_selection import cross_val_score\n",
        "from sklearn.datasets import make_classification\n",
        "from numpy import absolute\n",
        "from statistics import mean, stdev \n",
        "\n",
        "#define cross-validation \n",
        "cv = KFold(n_splits=10, random_state=1, shuffle=True)\n",
        "#build multiple linear regression model\n",
        "model = LinearRegression()\n",
        "#use k-fold CV to evaluate model\n",
        "scores = cross_val_score(model, x, y, scoring='neg_mean_absolute_error', cv=cv, n_jobs=-1)\n",
        "#view mean absolute error\n",
        "mean(absolute(scores))\n",
        "#D'après la sortie, nous pouvons voir que l'erreur absolue moyenne (MAE) était  de 0.26609024532166065 . \n",
        "#Autrement dit, l'erreur absolue moyenne entre la prédiction du modèle et les données réelles observées est de 0.26609024532166065.\n",
        "#on constate qu'elle est trés faible donc nous pouvons conclure que le modèle des donnés est capable de prédire les observations réelles.\n",
        "\n",
        " #L'exécution de l'exemple utilise l'ensemble de données, \n",
        " #puis évalue un modèle de régression logistique sur celui-ci à l'aide d'une validation croisée 10 "
      ],
      "metadata": {
        "colab": {
          "base_uri": "https://localhost:8080/"
        },
        "id": "YRY2x1aKWP_x",
        "outputId": "98fad7c3-bfa4-4c04-be45-1f6cd9a7d903"
      },
      "execution_count": null,
      "outputs": [
        {
          "output_type": "execute_result",
          "data": {
            "text/plain": [
              "0.26609024532166065"
            ]
          },
          "metadata": {},
          "execution_count": 12
        }
      ]
    },
    {
      "cell_type": "code",
      "source": [
        "modele.summary()"
      ],
      "metadata": {
        "colab": {
          "base_uri": "https://localhost:8080/"
        },
        "id": "oi331yVmgV51",
        "outputId": "8dea6130-0e17-4b9f-a1ce-ed385466bf67"
      },
      "execution_count": null,
      "outputs": [
        {
          "output_type": "stream",
          "name": "stdout",
          "text": [
            "Model: \"sequential_17\"\n",
            "_________________________________________________________________\n",
            " Layer (type)                Output Shape              Param #   \n",
            "=================================================================\n",
            " dense_60 (Dense)            (None, 100)               7900      \n",
            "                                                                 \n",
            " dense_61 (Dense)            (None, 100)               10100     \n",
            "                                                                 \n",
            " dense_62 (Dense)            (None, 100)               10100     \n",
            "                                                                 \n",
            " dense_63 (Dense)            (None, 1)                 101       \n",
            "                                                                 \n",
            "=================================================================\n",
            "Total params: 28,201\n",
            "Trainable params: 28,201\n",
            "Non-trainable params: 0\n",
            "_________________________________________________________________\n"
          ]
        }
      ]
    }
  ]
}